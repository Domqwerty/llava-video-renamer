{
  "nbformat": 4,
  "nbformat_minor": 0,
  "metadata": {
    "colab": {
      "provenance": [],
      "gpuType": "T4",
      "authorship_tag": "ABX9TyO9waLHDEYSWzrVooU+7j+Y",
      "include_colab_link": true
    },
    "kernelspec": {
      "name": "python3",
      "display_name": "Python 3"
    },
    "language_info": {
      "name": "python"
    },
    "accelerator": "GPU"
  },
  "cells": [
    {
      "cell_type": "markdown",
      "metadata": {
        "id": "view-in-github",
        "colab_type": "text"
      },
      "source": [
        "<a href=\"https://colab.research.google.com/github/Domqwerty/llava-video-renamer/blob/main/llava_video.ipynb\" target=\"_parent\"><img src=\"https://colab.research.google.com/assets/colab-badge.svg\" alt=\"Open In Colab\"/></a>"
      ]
    },
    {
      "cell_type": "code",
      "execution_count": null,
      "metadata": {
        "id": "aUWMFS9XKzW8"
      },
      "outputs": [],
      "source": [
        "%cd /content\n",
        "!git clone -b v1.0 https://github.com/camenduru/LLaVA\n",
        "%cd /content/LLaVA\n",
        "\n",
        "!pip install -q transformers==4.36.2\n",
        "!pip install -q gradio .\n",
        "!pip install -q opencv-python"
      ]
    },
    {
      "cell_type": "code",
      "source": [
        "import os\n",
        "import requests\n",
        "from PIL import Image\n",
        "from io import BytesIO\n",
        "import cv2\n",
        "from transformers import AutoTokenizer, BitsAndBytesConfig, TextStreamer\n",
        "from llava.model import LlavaLlamaForCausalLM\n",
        "import torch\n",
        "from llava.conversation import conv_templates, SeparatorStyle\n",
        "from llava.utils import disable_torch_init\n",
        "from llava.constants import IMAGE_TOKEN_INDEX, DEFAULT_IMAGE_TOKEN, DEFAULT_IM_START_TOKEN, DEFAULT_IM_END_TOKEN\n",
        "from llava.mm_utils import tokenizer_image_token, get_model_name_from_path, KeywordsStoppingCriteria\n",
        "\n",
        "# Funzione per estrarre il primo fotogramma\n",
        "def extract_first_frame(video_path, output_image_path):\n",
        "    cap = cv2.VideoCapture(video_path)\n",
        "    success, frame = cap.read()\n",
        "    if success:\n",
        "        cv2.imwrite(output_image_path, frame)\n",
        "    cap.release()\n",
        "    return success\n",
        "\n",
        "# Funzione per rinominare il video\n",
        "def rename_video(video_path, description):\n",
        "    directory, original_name = os.path.split(video_path)\n",
        "    file_name, file_extension = os.path.splitext(original_name)\n",
        "\n",
        "    # Pulizia della descrizione\n",
        "    new_name = description.replace(\" \", \"_\").replace(\",\", \"\").replace(\".\", \"\").replace(\":\", \"\").replace(\"'\", \"\")\n",
        "    new_video_path = os.path.join(directory, f\"{new_name}{file_extension}\")\n",
        "\n",
        "    # Gestione nomi duplicati\n",
        "    counter = 1\n",
        "    while os.path.exists(new_video_path):\n",
        "        new_video_path = os.path.join(directory, f\"{new_name}_{counter}{file_extension}\")\n",
        "        counter += 1\n",
        "\n",
        "    os.rename(video_path, new_video_path)\n",
        "    return new_video_path\n",
        "\n",
        "# Percorso del modello (dovrai scaricarlo o usarne uno che hai già)\n",
        "model_path = \"4bit/llava-v1.5-13b-3GB\" # Esempio, assicurati che il modello sia in questa cartella\n",
        "# Se vuoi scaricare un modello diverso:\n",
        "# model_path = \"liuhaotian/llava-v1.5-7b\""
      ],
      "metadata": {
        "id": "tL0EvB06K4mf"
      },
      "execution_count": null,
      "outputs": []
    },
    {
      "cell_type": "code",
      "source": [
        "kwargs = {\"device_map\": \"auto\"}\n",
        "kwargs['load_in_4bit'] = True\n",
        "kwargs['quantization_config'] = BitsAndBytesConfig(\n",
        "    load_in_4bit=True,\n",
        "    bnb_4bit_compute_dtype=torch.float16,\n",
        "    bnb_4bit_use_double_quant=True,\n",
        "    bnb_4bit_quant_type='nf4'\n",
        ")\n",
        "model = LlavaLlamaForCausalLM.from_pretrained(model_path, low_cpu_mem_usage=True, **kwargs)\n",
        "tokenizer = AutoTokenizer.from_pretrained(model_path, use_fast=False)\n",
        "\n",
        "vision_tower = model.get_vision_tower()\n",
        "if not vision_tower.is_loaded:\n",
        "    vision_tower.load_model()\n",
        "vision_tower.to(device='cuda')\n",
        "image_processor = vision_tower.image_processor"
      ],
      "metadata": {
        "id": "7_A-Fya3K7Vb"
      },
      "execution_count": null,
      "outputs": []
    },
    {
      "cell_type": "code",
      "source": [
        "def caption_image(image_path, prompt):\n",
        "    # Modificata per accettare direttamente un percorso locale\n",
        "    image = Image.open(image_path).convert('RGB')\n",
        "    disable_torch_init()\n",
        "    conv_mode = \"llava_v0\"\n",
        "    conv = conv_templates[conv_mode].copy()\n",
        "    roles = conv.roles\n",
        "    image_tensor = image_processor.preprocess(image, return_tensors='pt')['pixel_values'].half().cuda()\n",
        "    inp = f\"{roles[0]}: {prompt}\"\n",
        "    inp = DEFAULT_IM_START_TOKEN + DEFAULT_IMAGE_TOKEN + DEFAULT_IM_END_TOKEN + '\\n' + inp\n",
        "    conv.append_message(conv.roles[0], inp)\n",
        "    conv.append_message(conv.roles[1], None)\n",
        "    raw_prompt = conv.get_prompt()\n",
        "    input_ids = tokenizer_image_token(raw_prompt, tokenizer, IMAGE_TOKEN_INDEX, return_tensors"
      ],
      "metadata": {
        "id": "izI6m9gTK9S9"
      },
      "execution_count": null,
      "outputs": []
    },
    {
      "cell_type": "code",
      "source": [
        "def caption_image(image_path, prompt):\n",
        "    # Modificata per accettare direttamente un percorso locale\n",
        "    image = Image.open(image_path).convert('RGB')\n",
        "    disable_torch_init()\n",
        "    conv_mode = \"llava_v0\"\n",
        "    conv = conv_templates[conv_mode].copy()\n",
        "    roles = conv.roles\n",
        "    image_tensor = image_processor.preprocess(image, return_tensors='pt')['pixel_values'].half().cuda()\n",
        "    inp = f\"{roles[0]}: {prompt}\"\n",
        "    inp = DEFAULT_IM_START_TOKEN + DEFAULT_IMAGE_TOKEN + DEFAULT_IM_END_TOKEN + '\\n' + inp\n",
        "    conv.append_message(conv.roles[0], inp)\n",
        "    conv.append_message(conv.roles[1], None)\n",
        "    raw_prompt = conv.get_prompt()\n",
        "    input_ids = tokenizer_image_token(raw_prompt, tokenizer, IMAGE_TOKEN_INDEX, return_tensors='pt').unsqueeze(0).cuda() # Aggiunto 'pt' e spostato il resto dell'istruzione nella riga successiva\n",
        "    stop_str = conv.sep if conv.sep_style != SeparatorStyle.TWO else conv.sep2\n",
        "    keywords = [stop_str]\n",
        "    stopping_criteria = KeywordsStoppingCriteria(keywords, tokenizer, input_ids)\n",
        "    with torch.inference_mode():\n",
        "      output_ids = model.generate(input_ids, images=image_tensor, do_sample=True, temperature=0.2,\n",
        "                                  max_new_tokens=1024, use_cache=True, stopping_criteria=[stopping_criteria])\n",
        "    outputs = tokenizer.decode(output_ids[0, input_ids.shape[1]:]).strip()\n",
        "    conv.messages[-1][-1] = outputs\n",
        "    output = outputs.rsplit('</s>', 1)[0]\n",
        "    return output"
      ],
      "metadata": {
        "id": "Wtq0RD0fScQY"
      },
      "execution_count": null,
      "outputs": []
    },
    {
      "cell_type": "code",
      "source": [
        "\n",
        "\n",
        "# Processa tutti i video in una cartella\n",
        "def process_videos_in_folder(video_folder, output_image_path, prompt=\"Descrivi l'immagine in dettaglio in italiano..\"):\n",
        "    for video_file in os.listdir(video_folder):\n",
        "        video_path = os.path.join(video_folder, video_file)\n",
        "        if not video_path.endswith((\".mp4\", \".avi\", \".mkv\")):\n",
        "            continue\n",
        "\n",
        "        print(f\"Processando: {video_path}\")\n",
        "        if extract_first_frame(video_path, output_image_path):\n",
        "            # Usa LLaVA per descrivere l'immagine\n",
        "            description = caption_image(output_image_path, prompt)\n",
        "            print(f\"Descrizione rilevata: {description}\")\n",
        "            rename_video(video_path, description)\n",
        "        else:\n",
        "            print(f\"Impossibile estrarre il primo fotogramma da: {video_path}\")"
      ],
      "metadata": {
        "id": "KxcBqLzeK_kT"
      },
      "execution_count": null,
      "outputs": []
    },
    {
      "cell_type": "code",
      "source": [
        "import hashlib\n",
        "\n",
        "def rename_video(video_path, description):\n",
        "    directory, original_name = os.path.split(video_path)\n",
        "    file_name, file_extension = os.path.splitext(original_name)\n",
        "\n",
        "    # Pulizia della descrizione\n",
        "    new_name = description.replace(\" \", \"_\").replace(\",\", \"\").replace(\".\", \"\").replace(\":\", \"\").replace(\"'\", \"\")\n",
        "\n",
        "    # Tronca la descrizione a 200 caratteri (puoi modificare questo valore)\n",
        "    max_length = 200\n",
        "    if len(new_name) > max_length:\n",
        "        new_name = new_name[:max_length]\n",
        "\n",
        "    # Calcola l'hash della descrizione completa\n",
        "    hash_object = hashlib.sha256(description.encode())\n",
        "    hash_hex = hash_object.hexdigest()\n",
        "\n",
        "    # Combina il nome troncato con una parte dell'hash\n",
        "    new_name = f\"{new_name}_{hash_hex[:8]}{file_extension}\" # Prendi solo i primi 8 caratteri dell'hash\n",
        "\n",
        "    new_video_path = os.path.join(directory, new_name)\n",
        "\n",
        "    # Gestione nomi duplicati (anche se improbabile con l'hash)\n",
        "    counter = 1\n",
        "    while os.path.exists(new_video_path):\n",
        "        new_name = f\"{new_name}_{hash_hex[:8]}_{counter}{file_extension}\"\n",
        "        new_video_path = os.path.join(directory, new_name)\n",
        "        counter += 1\n",
        "\n",
        "    os.rename(video_path, new_video_path)\n",
        "    return new_video_path"
      ],
      "metadata": {
        "id": "X_DBr2E7UMwb"
      },
      "execution_count": null,
      "outputs": []
    },
    {
      "cell_type": "code",
      "source": [
        "# Percorsi\n",
        "video_folder = \"/content/videos\"  # Crea una cartella 'videos' in Colab e carica i video\n",
        "output_image_path = \"temp_frame.jpg\"\n",
        "\n",
        "# Assicurati che la cartella video esista\n",
        "if not os.path.exists(video_folder):\n",
        "    os.makedirs(video_folder)\n",
        "\n",
        "# Esecuzione\n",
        "process_videos_in_folder(video_folder, output_image_path)"
      ],
      "metadata": {
        "id": "MUyVaQs4LCqT"
      },
      "execution_count": null,
      "outputs": []
    },
    {
      "cell_type": "code",
      "source": [
        "!zip -r /content/videos.zip /content/videos"
      ],
      "metadata": {
        "id": "VsSRN0GKXQFV"
      },
      "execution_count": null,
      "outputs": []
    }
  ]
}